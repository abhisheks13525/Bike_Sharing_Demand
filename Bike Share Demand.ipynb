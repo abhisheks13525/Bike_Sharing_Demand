{
 "cells": [
  {
   "cell_type": "markdown",
   "metadata": {},
   "source": [
    "# Statistics"
   ]
  },
  {
   "cell_type": "markdown",
   "metadata": {},
   "source": [
    "### Mean count per year"
   ]
  },
  {
   "cell_type": "code",
   "execution_count": 1,
   "metadata": {},
   "outputs": [],
   "source": [
    "import numpy as np\n",
    "import matplotlib.pyplot as plt\n",
    "import pandas as pd"
   ]
  },
  {
   "cell_type": "code",
   "execution_count": 2,
   "metadata": {},
   "outputs": [],
   "source": [
    "train = pd.read_csv(\"hour.csv\")"
   ]
  },
  {
   "cell_type": "code",
   "execution_count": 3,
   "metadata": {},
   "outputs": [
    {
     "data": {
      "text/html": [
       "<div>\n",
       "<style scoped>\n",
       "    .dataframe tbody tr th:only-of-type {\n",
       "        vertical-align: middle;\n",
       "    }\n",
       "\n",
       "    .dataframe tbody tr th {\n",
       "        vertical-align: top;\n",
       "    }\n",
       "\n",
       "    .dataframe thead th {\n",
       "        text-align: right;\n",
       "    }\n",
       "</style>\n",
       "<table border=\"1\" class=\"dataframe\">\n",
       "  <thead>\n",
       "    <tr style=\"text-align: right;\">\n",
       "      <th></th>\n",
       "      <th>instant</th>\n",
       "      <th>dteday</th>\n",
       "      <th>season</th>\n",
       "      <th>yr</th>\n",
       "      <th>mnth</th>\n",
       "      <th>hr</th>\n",
       "      <th>holiday</th>\n",
       "      <th>weekday</th>\n",
       "      <th>workingday</th>\n",
       "      <th>weathersit</th>\n",
       "      <th>temp</th>\n",
       "      <th>atemp</th>\n",
       "      <th>hum</th>\n",
       "      <th>windspeed</th>\n",
       "      <th>casual</th>\n",
       "      <th>registered</th>\n",
       "      <th>cnt</th>\n",
       "    </tr>\n",
       "  </thead>\n",
       "  <tbody>\n",
       "    <tr>\n",
       "      <th>0</th>\n",
       "      <td>1</td>\n",
       "      <td>2011-01-01</td>\n",
       "      <td>1</td>\n",
       "      <td>0</td>\n",
       "      <td>1</td>\n",
       "      <td>0</td>\n",
       "      <td>0</td>\n",
       "      <td>6</td>\n",
       "      <td>0</td>\n",
       "      <td>1</td>\n",
       "      <td>0.24</td>\n",
       "      <td>0.2879</td>\n",
       "      <td>0.81</td>\n",
       "      <td>0.0</td>\n",
       "      <td>3</td>\n",
       "      <td>13</td>\n",
       "      <td>16</td>\n",
       "    </tr>\n",
       "    <tr>\n",
       "      <th>1</th>\n",
       "      <td>2</td>\n",
       "      <td>2011-01-01</td>\n",
       "      <td>1</td>\n",
       "      <td>0</td>\n",
       "      <td>1</td>\n",
       "      <td>1</td>\n",
       "      <td>0</td>\n",
       "      <td>6</td>\n",
       "      <td>0</td>\n",
       "      <td>1</td>\n",
       "      <td>0.22</td>\n",
       "      <td>0.2727</td>\n",
       "      <td>0.80</td>\n",
       "      <td>0.0</td>\n",
       "      <td>8</td>\n",
       "      <td>32</td>\n",
       "      <td>40</td>\n",
       "    </tr>\n",
       "    <tr>\n",
       "      <th>2</th>\n",
       "      <td>3</td>\n",
       "      <td>2011-01-01</td>\n",
       "      <td>1</td>\n",
       "      <td>0</td>\n",
       "      <td>1</td>\n",
       "      <td>2</td>\n",
       "      <td>0</td>\n",
       "      <td>6</td>\n",
       "      <td>0</td>\n",
       "      <td>1</td>\n",
       "      <td>0.22</td>\n",
       "      <td>0.2727</td>\n",
       "      <td>0.80</td>\n",
       "      <td>0.0</td>\n",
       "      <td>5</td>\n",
       "      <td>27</td>\n",
       "      <td>32</td>\n",
       "    </tr>\n",
       "    <tr>\n",
       "      <th>3</th>\n",
       "      <td>4</td>\n",
       "      <td>2011-01-01</td>\n",
       "      <td>1</td>\n",
       "      <td>0</td>\n",
       "      <td>1</td>\n",
       "      <td>3</td>\n",
       "      <td>0</td>\n",
       "      <td>6</td>\n",
       "      <td>0</td>\n",
       "      <td>1</td>\n",
       "      <td>0.24</td>\n",
       "      <td>0.2879</td>\n",
       "      <td>0.75</td>\n",
       "      <td>0.0</td>\n",
       "      <td>3</td>\n",
       "      <td>10</td>\n",
       "      <td>13</td>\n",
       "    </tr>\n",
       "    <tr>\n",
       "      <th>4</th>\n",
       "      <td>5</td>\n",
       "      <td>2011-01-01</td>\n",
       "      <td>1</td>\n",
       "      <td>0</td>\n",
       "      <td>1</td>\n",
       "      <td>4</td>\n",
       "      <td>0</td>\n",
       "      <td>6</td>\n",
       "      <td>0</td>\n",
       "      <td>1</td>\n",
       "      <td>0.24</td>\n",
       "      <td>0.2879</td>\n",
       "      <td>0.75</td>\n",
       "      <td>0.0</td>\n",
       "      <td>0</td>\n",
       "      <td>1</td>\n",
       "      <td>1</td>\n",
       "    </tr>\n",
       "  </tbody>\n",
       "</table>\n",
       "</div>"
      ],
      "text/plain": [
       "   instant      dteday  season  yr  mnth  hr  holiday  weekday  workingday  \\\n",
       "0        1  2011-01-01       1   0     1   0        0        6           0   \n",
       "1        2  2011-01-01       1   0     1   1        0        6           0   \n",
       "2        3  2011-01-01       1   0     1   2        0        6           0   \n",
       "3        4  2011-01-01       1   0     1   3        0        6           0   \n",
       "4        5  2011-01-01       1   0     1   4        0        6           0   \n",
       "\n",
       "   weathersit  temp   atemp   hum  windspeed  casual  registered  cnt  \n",
       "0           1  0.24  0.2879  0.81        0.0       3          13   16  \n",
       "1           1  0.22  0.2727  0.80        0.0       8          32   40  \n",
       "2           1  0.22  0.2727  0.80        0.0       5          27   32  \n",
       "3           1  0.24  0.2879  0.75        0.0       3          10   13  \n",
       "4           1  0.24  0.2879  0.75        0.0       0           1    1  "
      ]
     },
     "execution_count": 3,
     "metadata": {},
     "output_type": "execute_result"
    }
   ],
   "source": [
    "train.head()"
   ]
  },
  {
   "cell_type": "code",
   "execution_count": 4,
   "metadata": {},
   "outputs": [
    {
     "data": {
      "text/html": [
       "<div>\n",
       "<style scoped>\n",
       "    .dataframe tbody tr th:only-of-type {\n",
       "        vertical-align: middle;\n",
       "    }\n",
       "\n",
       "    .dataframe tbody tr th {\n",
       "        vertical-align: top;\n",
       "    }\n",
       "\n",
       "    .dataframe thead th {\n",
       "        text-align: right;\n",
       "    }\n",
       "</style>\n",
       "<table border=\"1\" class=\"dataframe\">\n",
       "  <thead>\n",
       "    <tr style=\"text-align: right;\">\n",
       "      <th></th>\n",
       "      <th>instant</th>\n",
       "      <th>dteday</th>\n",
       "      <th>season</th>\n",
       "      <th>yr</th>\n",
       "      <th>mnth</th>\n",
       "      <th>hr</th>\n",
       "      <th>holiday</th>\n",
       "      <th>weekday</th>\n",
       "      <th>workingday</th>\n",
       "      <th>weathersit</th>\n",
       "      <th>temp</th>\n",
       "      <th>atemp</th>\n",
       "      <th>hum</th>\n",
       "      <th>windspeed</th>\n",
       "      <th>casual</th>\n",
       "      <th>registered</th>\n",
       "      <th>cnt</th>\n",
       "    </tr>\n",
       "  </thead>\n",
       "  <tbody>\n",
       "    <tr>\n",
       "      <th>17374</th>\n",
       "      <td>17375</td>\n",
       "      <td>2012-12-31</td>\n",
       "      <td>1</td>\n",
       "      <td>1</td>\n",
       "      <td>12</td>\n",
       "      <td>19</td>\n",
       "      <td>0</td>\n",
       "      <td>1</td>\n",
       "      <td>1</td>\n",
       "      <td>2</td>\n",
       "      <td>0.26</td>\n",
       "      <td>0.2576</td>\n",
       "      <td>0.60</td>\n",
       "      <td>0.1642</td>\n",
       "      <td>11</td>\n",
       "      <td>108</td>\n",
       "      <td>119</td>\n",
       "    </tr>\n",
       "    <tr>\n",
       "      <th>17375</th>\n",
       "      <td>17376</td>\n",
       "      <td>2012-12-31</td>\n",
       "      <td>1</td>\n",
       "      <td>1</td>\n",
       "      <td>12</td>\n",
       "      <td>20</td>\n",
       "      <td>0</td>\n",
       "      <td>1</td>\n",
       "      <td>1</td>\n",
       "      <td>2</td>\n",
       "      <td>0.26</td>\n",
       "      <td>0.2576</td>\n",
       "      <td>0.60</td>\n",
       "      <td>0.1642</td>\n",
       "      <td>8</td>\n",
       "      <td>81</td>\n",
       "      <td>89</td>\n",
       "    </tr>\n",
       "    <tr>\n",
       "      <th>17376</th>\n",
       "      <td>17377</td>\n",
       "      <td>2012-12-31</td>\n",
       "      <td>1</td>\n",
       "      <td>1</td>\n",
       "      <td>12</td>\n",
       "      <td>21</td>\n",
       "      <td>0</td>\n",
       "      <td>1</td>\n",
       "      <td>1</td>\n",
       "      <td>1</td>\n",
       "      <td>0.26</td>\n",
       "      <td>0.2576</td>\n",
       "      <td>0.60</td>\n",
       "      <td>0.1642</td>\n",
       "      <td>7</td>\n",
       "      <td>83</td>\n",
       "      <td>90</td>\n",
       "    </tr>\n",
       "    <tr>\n",
       "      <th>17377</th>\n",
       "      <td>17378</td>\n",
       "      <td>2012-12-31</td>\n",
       "      <td>1</td>\n",
       "      <td>1</td>\n",
       "      <td>12</td>\n",
       "      <td>22</td>\n",
       "      <td>0</td>\n",
       "      <td>1</td>\n",
       "      <td>1</td>\n",
       "      <td>1</td>\n",
       "      <td>0.26</td>\n",
       "      <td>0.2727</td>\n",
       "      <td>0.56</td>\n",
       "      <td>0.1343</td>\n",
       "      <td>13</td>\n",
       "      <td>48</td>\n",
       "      <td>61</td>\n",
       "    </tr>\n",
       "    <tr>\n",
       "      <th>17378</th>\n",
       "      <td>17379</td>\n",
       "      <td>2012-12-31</td>\n",
       "      <td>1</td>\n",
       "      <td>1</td>\n",
       "      <td>12</td>\n",
       "      <td>23</td>\n",
       "      <td>0</td>\n",
       "      <td>1</td>\n",
       "      <td>1</td>\n",
       "      <td>1</td>\n",
       "      <td>0.26</td>\n",
       "      <td>0.2727</td>\n",
       "      <td>0.65</td>\n",
       "      <td>0.1343</td>\n",
       "      <td>12</td>\n",
       "      <td>37</td>\n",
       "      <td>49</td>\n",
       "    </tr>\n",
       "  </tbody>\n",
       "</table>\n",
       "</div>"
      ],
      "text/plain": [
       "       instant      dteday  season  yr  mnth  hr  holiday  weekday  \\\n",
       "17374    17375  2012-12-31       1   1    12  19        0        1   \n",
       "17375    17376  2012-12-31       1   1    12  20        0        1   \n",
       "17376    17377  2012-12-31       1   1    12  21        0        1   \n",
       "17377    17378  2012-12-31       1   1    12  22        0        1   \n",
       "17378    17379  2012-12-31       1   1    12  23        0        1   \n",
       "\n",
       "       workingday  weathersit  temp   atemp   hum  windspeed  casual  \\\n",
       "17374           1           2  0.26  0.2576  0.60     0.1642      11   \n",
       "17375           1           2  0.26  0.2576  0.60     0.1642       8   \n",
       "17376           1           1  0.26  0.2576  0.60     0.1642       7   \n",
       "17377           1           1  0.26  0.2727  0.56     0.1343      13   \n",
       "17378           1           1  0.26  0.2727  0.65     0.1343      12   \n",
       "\n",
       "       registered  cnt  \n",
       "17374         108  119  \n",
       "17375          81   89  \n",
       "17376          83   90  \n",
       "17377          48   61  \n",
       "17378          37   49  "
      ]
     },
     "execution_count": 4,
     "metadata": {},
     "output_type": "execute_result"
    }
   ],
   "source": [
    "train.tail()"
   ]
  },
  {
   "cell_type": "code",
   "execution_count": 5,
   "metadata": {},
   "outputs": [],
   "source": [
    "datetime_values = pd.to_datetime(train[\"dteday\"])"
   ]
  },
  {
   "cell_type": "code",
   "execution_count": 6,
   "metadata": {},
   "outputs": [],
   "source": [
    "years = list(set(train[\"yr\"]))"
   ]
  },
  {
   "cell_type": "code",
   "execution_count": 7,
   "metadata": {},
   "outputs": [
    {
     "name": "stdout",
     "output_type": "stream",
     "text": [
      "Mean count for the year 0 is: 143.79444765760556\n",
      "Standard deviation for the year 0 is: 133.7901154614873\n",
      "Mean count for the year 1 is: 234.6663613464621\n",
      "Standard deviation for the year 1 is: 208.89898100694245\n"
     ]
    }
   ],
   "source": [
    "year_mean_count = []\n",
    "year_std_dev = []\n",
    "for year in years:\n",
    "    mean_count = np.mean(train[train[\"yr\"] == year][\"cnt\"])\n",
    "    std_dev = np.std(train[train[\"yr\"] == year][\"cnt\"])\n",
    "    year_mean_count.append(mean_count)\n",
    "    year_std_dev.append(std_dev)\n",
    "    print(\"Mean count for the year \"+ str(year) +\" is: \"+ str(mean_count))\n",
    "    print(\"Standard deviation for the year \"+ str(year) +\" is: \"+ str(std_dev))\n"
   ]
  },
  {
   "cell_type": "markdown",
   "metadata": {},
   "source": [
    "### Mean count per month"
   ]
  },
  {
   "cell_type": "code",
   "execution_count": 8,
   "metadata": {},
   "outputs": [
    {
     "data": {
      "text/plain": [
       "[1, 2, 3, 4, 5, 6, 7, 8, 9, 10, 11, 12]"
      ]
     },
     "execution_count": 8,
     "metadata": {},
     "output_type": "execute_result"
    }
   ],
   "source": [
    "months = list(set(train[\"mnth\"]))\n",
    "months"
   ]
  },
  {
   "cell_type": "code",
   "execution_count": 9,
   "metadata": {},
   "outputs": [
    {
     "name": "stdout",
     "output_type": "stream",
     "text": [
      " Month     Mean Count           Std Deviation \n",
      "--------------------------------------------\n",
      "1         94.42477256822953    99.87218270505696\n",
      "2         112.86502609992543    112.44461581350502\n",
      "3         155.41072640868975    163.48752682090705\n",
      "4         187.26096033402922    181.07486454269215\n",
      "5         222.90725806451613    187.65840835648794\n",
      "6         240.51527777777778    195.97086954706802\n",
      "7         231.81989247311827    187.42079640976388\n",
      "8         238.09762711864406    200.37668923203063\n",
      "9         240.7731384829506    214.53484507572884\n",
      "10         222.15851137146797    203.4069289221791\n",
      "11         177.33542101600557    158.91856242427914\n",
      "12         142.30343897505057    141.03310049980757\n"
     ]
    }
   ],
   "source": [
    "month_mean_count = []\n",
    "month_std_dev = []\n",
    "for month in months:\n",
    "    mean_count = np.mean(train[train[\"mnth\"] == month][\"cnt\"])\n",
    "    std_dev = np.std(train[train[\"mnth\"] == month][\"cnt\"])\n",
    "    month_mean_count.append(mean_count)\n",
    "    month_std_dev.append(std_dev)\n",
    "\n",
    "print(\" Month \" + \"    Mean Count \" + \"          Std Deviation \")\n",
    "print(\"--------------------------------------------\")\n",
    "for month in months:\n",
    "    print(str(month) + \"         \" + str(month_mean_count[month - 1]) + \"    \" + str(month_std_dev[month -1]))  \n"
   ]
  },
  {
   "cell_type": "markdown",
   "metadata": {},
   "source": [
    "### Day mean count"
   ]
  },
  {
   "cell_type": "code",
   "execution_count": 10,
   "metadata": {},
   "outputs": [],
   "source": [
    "days = list(set(datetime_values.dt.day))\n"
   ]
  },
  {
   "cell_type": "code",
   "execution_count": 11,
   "metadata": {},
   "outputs": [
    {
     "name": "stdout",
     "output_type": "stream",
     "text": [
      " Date     Mean Count           Std Deviation \n",
      "--------------------------------------------\n",
      "1         180.33391304347825    170.30162443349766\n",
      "2         183.9109947643979    175.15125580382278\n",
      "3         194.69633507853402    182.0106682444897\n",
      "4         195.705574912892    181.8713469269743\n",
      "5         189.76521739130436    180.2151337772276\n",
      "6         189.86013986013987    180.79498497742532\n",
      "7         183.77351916376307    175.25890533170758\n",
      "8         179.04181184668988    170.41375656321148\n",
      "9         187.89739130434782    179.7936737586434\n",
      "10         195.18356643356643    185.4946690539122\n",
      "11         195.67957746478874    187.27698325250623\n",
      "12         190.67539267015707    185.3529514726167\n",
      "13         194.1602787456446    183.22042309645383\n",
      "14         195.82926829268294    184.3547239168963\n",
      "15         201.52787456445992    185.15757040440158\n",
      "16         191.35365853658536    186.617018278091\n",
      "17         205.66086956521738    190.81788663569623\n",
      "18         192.6056838365897    173.48473380357783\n",
      "19         192.31184668989548    180.07328734256998\n",
      "20         199.8205574912892    187.70200508592885\n",
      "21         182.43031358885017    174.14911464992045\n",
      "22         173.7486818980668    178.82628983421998\n",
      "23         185.76614310645724    187.26639508479974\n",
      "24         180.81326352530542    183.91989786130947\n",
      "25         183.21853146853147    182.52560737850555\n",
      "26         187.5837742504409    182.15502908810012\n",
      "27         186.1340579710145    185.82609370302163\n",
      "28         187.97868561278864    170.38442452637904\n",
      "29         181.88022813688212    182.79604590895275\n",
      "30         194.25097276264592    180.94464953557423\n",
      "31         189.36011904761904    182.57913667121136\n"
     ]
    }
   ],
   "source": [
    "day_mean_count = []\n",
    "day_std_dev = []\n",
    "for day in days:\n",
    "    mean_count = np.mean(train[datetime_values.dt.day == day][\"cnt\"])\n",
    "    std_dev = np.std(train[datetime_values.dt.day == day][\"cnt\"])\n",
    "    day_mean_count.append(mean_count)\n",
    "    day_std_dev.append(std_dev)\n",
    "\n",
    "print(\" Date \" + \"    Mean Count \" + \"          Std Deviation \")\n",
    "print(\"--------------------------------------------\")\n",
    "for day in days:\n",
    "    print(str(day) + \"         \" + str(day_mean_count[day - 1]) + \"    \" + str(day_std_dev[day -1]))  \n"
   ]
  },
  {
   "cell_type": "markdown",
   "metadata": {},
   "source": [
    "### Weather Mean Count"
   ]
  },
  {
   "cell_type": "code",
   "execution_count": 12,
   "metadata": {},
   "outputs": [
    {
     "name": "stdout",
     "output_type": "stream",
     "text": [
      " Weather     Mean Count           Std Deviation \n",
      "--------------------------------------------\n",
      "1         204.8692718829405    189.47947184103825\n",
      "2         175.16549295774647    165.41338497528653\n",
      "3         111.57928118393235    133.7338975069554\n",
      "4         74.33333333333333    63.625641232306826\n"
     ]
    }
   ],
   "source": [
    "weather_sits = list(set(train[\"weathersit\"]))\n",
    "weather_mean_count = []\n",
    "weather_std_dev = []\n",
    "for weather in weather_sits:\n",
    "    mean_count = np.mean(train[train[\"weathersit\"] == weather][\"cnt\"])\n",
    "    std_dev = np.std(train[train[\"weathersit\"] == weather][\"cnt\"])\n",
    "    weather_mean_count.append(mean_count)\n",
    "    weather_std_dev.append(std_dev)\n",
    "\n",
    "print(\" Weather \" + \"    Mean Count \" + \"          Std Deviation \")\n",
    "print(\"--------------------------------------------\")\n",
    "for weather in weather_sits:\n",
    "    print(str(weather) + \"         \" + str(weather_mean_count[weather -1]) + \"    \" + str(weather_std_dev[weather -1]))  \n"
   ]
  },
  {
   "cell_type": "markdown",
   "metadata": {},
   "source": [
    "### Season Mean Count"
   ]
  },
  {
   "cell_type": "code",
   "execution_count": 13,
   "metadata": {},
   "outputs": [
    {
     "name": "stdout",
     "output_type": "stream",
     "text": [
      " Season     Mean Count           Std Deviation \n",
      "--------------------------------------------\n",
      "1         111.11456859971712    119.20995658145314\n",
      "2         208.34406894987526    188.34111080288054\n",
      "3         236.01623665480426    197.68964149344993\n",
      "4         198.86885633270322    182.9463533342875\n"
     ]
    }
   ],
   "source": [
    "seasons = list(set(train[\"season\"]))\n",
    "season_mean_count = []\n",
    "season_std_dev = []\n",
    "for season in seasons:\n",
    "    mean_count = np.mean(train[train[\"season\"] == season][\"cnt\"])\n",
    "    std_dev = np.std(train[train[\"season\"] == season][\"cnt\"])\n",
    "    season_mean_count.append(mean_count)\n",
    "    season_std_dev.append(std_dev)\n",
    "\n",
    "print(\" Season \" + \"    Mean Count \" + \"          Std Deviation \")\n",
    "print(\"--------------------------------------------\")\n",
    "for season in seasons:\n",
    "    print(str(season) + \"         \" + str(season_mean_count[season -1]) + \"    \" + str(season_std_dev[season -1]))  \n"
   ]
  },
  {
   "cell_type": "markdown",
   "metadata": {},
   "source": [
    "# Plot of count "
   ]
  },
  {
   "cell_type": "code",
   "execution_count": 14,
   "metadata": {},
   "outputs": [
    {
     "data": {
      "image/png": "[encoded data removed]",
      "text/plain": [
       "<Figure size 432x288 with 1 Axes>"
      ]
     },
     "metadata": {
      "needs_background": "light"
     },
     "output_type": "display_data"
    }
   ],
   "source": [
    "plt.bar(train[\"weathersit\"], train[\"cnt\"])\n",
    "plt.xlabel(\"Weather Situation\")\n",
    "plt.ylabel(\"Count\")\n",
    "plt.title(\"Bar plot of Count vs weather\")\n",
    "#plt.savefig(\"Fig.-4.1 Count vs weathersituation.jpg\")\n",
    "plt.show()"
   ]
  },
  {
   "cell_type": "code",
   "execution_count": 15,
   "metadata": {},
   "outputs": [
    {
     "data": {
      "image/png": "[encoded data removed]",
      "text/plain": [
       "<Figure size 432x288 with 1 Axes>"
      ]
     },
     "metadata": {
      "needs_background": "light"
     },
     "output_type": "display_data"
    }
   ],
   "source": [
    "plt.bar(train[\"season\"], train[\"cnt\"])\n",
    "plt.xlabel(\"Season\")\n",
    "plt.ylabel(\"Count\")\n",
    "plt.title(\"Bar Plot of Count vs Season\")\n",
    "#plt.savefig(\"Fig.-4.2 Count vs Season.jpg\")\n",
    "plt.show()"
   ]
  },
  {
   "cell_type": "code",
   "execution_count": 16,
   "metadata": {},
   "outputs": [
    {
     "data": {
      "image/png": "[encoded data removed]",
      "text/plain": [
       "<Figure size 432x288 with 1 Axes>"
      ]
     },
     "metadata": {
      "needs_background": "light"
     },
     "output_type": "display_data"
    }
   ],
   "source": [
    "plt.scatter(train[\"temp\"], train[\"cnt\"])\n",
    "plt.xlabel(\"Normalized Temperature\")\n",
    "plt.ylabel(\"Count\")\n",
    "plt.title(\"Bar Plot of Count vs Temperature\")\n",
    "#plt.savefig(\"Fig.-4.3 Count vs Temperature.jpg\")\n",
    "plt.show()"
   ]
  },
  {
   "cell_type": "code",
   "execution_count": 17,
   "metadata": {},
   "outputs": [
    {
     "data": {
      "image/png": "[encoded data removed]",
      "text/plain": [
       "<Figure size 432x288 with 1 Axes>"
      ]
     },
     "metadata": {
      "needs_background": "light"
     },
     "output_type": "display_data"
    }
   ],
   "source": [
    "plt.scatter(train[\"hum\"], train[\"cnt\"])\n",
    "plt.xlabel(\"Humidity\")\n",
    "plt.ylabel(\"Count\")\n",
    "plt.title(\"Bar Plot of Count vs Humidity\")\n",
    "#plt.savefig(\"Fig.-4.4 Count vs Humidity.jpg\")\n",
    "plt.show()"
   ]
  },
  {
   "cell_type": "code",
   "execution_count": 18,
   "metadata": {},
   "outputs": [
    {
     "data": {
      "image/png": "[encoded data removed]",
      "text/plain": [
       "<Figure size 432x288 with 1 Axes>"
      ]
     },
     "metadata": {
      "needs_background": "light"
     },
     "output_type": "display_data"
    }
   ],
   "source": [
    "plt.scatter(train[\"windspeed\"], train[\"cnt\"])\n",
    "plt.xlabel(\"Windspeed\")\n",
    "plt.ylabel(\"Count\")\n",
    "plt.title(\"Bar Plot of Count vs Windspeed\")\n",
    "#plt.savefig(\"Fig.-4.5 Count vs Windspeed.jpg\")\n",
    "plt.show()"
   ]
  },
  {
   "cell_type": "code",
   "execution_count": null,
   "metadata": {},
   "outputs": [],
   "source": []
  },
  {
   "cell_type": "markdown",
   "metadata": {},
   "source": [
    "## Regression"
   ]
  },
  {
   "cell_type": "code",
   "execution_count": 20,
   "metadata": {},
   "outputs": [],
   "source": [
    "class PoissonRegression:\n",
    "    \"\"\"\n",
    "        Defines a PoissonRegression class to fit a model and make predictions on count data.\n",
    "        \n",
    "        call fit() to train the model\n",
    "        call predict() to get the predicted values\n",
    "        call rmse() to get the RMSE\n",
    "    \"\"\"\n",
    "    def __init__(self, regularization = \"\"):\n",
    "        \"\"\"\n",
    "        Initialize the PoissonRegression Class.\n",
    "        Arguments: regularization: The type of regularization to perform. Takes one of three string values - \"\",\n",
    "                                   \"l1\", \"l2\". Anyother value will give an error when calling fit().\n",
    "        \"\"\"\n",
    "        self.regularization = regularization\n",
    "    \n",
    "    def __prediction(self, X, w):\n",
    "        \"\"\"\n",
    "        Predicts the count.\n",
    "        Arguments: X: NDArray of data of size n*m, m is the number of features and n is the no. of data points  \n",
    "                   w: weight vector\n",
    "        Returns the predictions\n",
    "        \"\"\"\n",
    "        y_hat = np.exp(np.matmul(X, w))\n",
    "        return y_hat\n",
    "\n",
    "    def __gradient(self, X, y, y_hat):\n",
    "        \"\"\"\n",
    "        Calculates the gradient with respect to weights without regularization.\n",
    "        Arguments: X: NDArray of data of size n*m, m is the number of features and n is the no. of data points\n",
    "                   y: Actual counts\n",
    "                   y_hat: Predicted count\n",
    "        Returns the gradient vector\n",
    "        \"\"\"\n",
    "        gradient = np.divide(np.matmul(np.transpose(X), np.subtract(y_hat, y)), len(y))\n",
    "        return gradient\n",
    "\n",
    "    def __gradient_descent(self,X, y, alpha, iterations, debug):\n",
    "        \"\"\"\n",
    "        Does gradient descent without regularization to learn weights\n",
    "        Arguments: X: NDArray of data of size n*m, m is the number of features and n is the no. of data points\n",
    "                   y: Actual counts\n",
    "                   alpha: step size\n",
    "                   iteratons: number of iterations\n",
    "                   debug: If True, weight vector is printed every 2000 iterations\n",
    "        Returns: learned weight vector\n",
    "        \"\"\"\n",
    "        w = np.zeros((len(X[1,:]), 1))\n",
    "        if debug is True:\n",
    "            print(\"Initial weghts = {}\".format(w))\n",
    "\n",
    "\n",
    "        for i in range(iterations):\n",
    "            y_hat = self.__prediction(X, w)\n",
    "            gradient_values = self.__gradient(X, y, y_hat)\n",
    "            w = np.subtract(w, alpha * gradient_values)\n",
    "            if i % 2000 == 0 and debug is True:\n",
    "                print(\"{}: weights are {}\".format(i, w))\n",
    "\n",
    "        if debug is True:\n",
    "            print(\"final weights: {}\".format(w))\n",
    "        \n",
    "        return w\n",
    "    \n",
    "    def __gradient_descent_l1(self,X,y, alpha, iterations, reg_const, debug):\n",
    "        \"\"\"\n",
    "        Does gradient descent with l1 regularization to learn weights\n",
    "        Arguments: X: NDArray of data of size n*m, m is the number of features and n is the no. of data points\n",
    "                   y: Actual counts\n",
    "                   alpha: step size\n",
    "                   iteratons: number of iterations\n",
    "                   reg_const: regularization constant for l1.\n",
    "                   debug: If True, weight vector is printed every 2000 iterations\n",
    "        Returns: learned weight vector\n",
    "        \"\"\"\n",
    "        w = np.zeros((len(X[1,:]), 1))\n",
    "        if debug is True:\n",
    "            print(\"Initial weghts = {}\".format(w))\n",
    "            \n",
    "        for i in range(iterations):\n",
    "            y_hat = self.__prediction(X, w)\n",
    "            gradient_values = self.__gradient(X, y, y_hat)\n",
    "            \n",
    "            m = len(w)\n",
    "            for j in range(m):\n",
    "                if w[j,0] > 0:\n",
    "                    gradient_values[j,0] += (reg_const / m)\n",
    "                elif w[j,0] < 0: \n",
    "                    gradient_values[j,0] -= (reg_const / m)\n",
    "\n",
    "            w = np.subtract(w, alpha * gradient_values)\n",
    "            if i % 2000 == 0 and debug is True:\n",
    "                print(\"{}: weights are {}\".format(i, w))\n",
    "            \n",
    "        \n",
    "        if debug is True:\n",
    "            print(\"final weights: {}\".format(w))\n",
    "            \n",
    "        return w\n",
    "    \n",
    "    def __gradient_descent_l2(self, X, y, alpha, iterations, reg_const, debug):\n",
    "        \"\"\"\n",
    "        Does gradient descent with l2 regularization to learn weights\n",
    "        Arguments: X: NDArray of data of size n*m, m is the number of features and n is the no. of data points\n",
    "                   y: Actual counts\n",
    "                   alpha: step size\n",
    "                   iteratons: number of iterations\n",
    "                   reg_const: regulatization const for l2 \n",
    "                   debug: If True, weight vector is printed every 2000 iterations\n",
    "        Returns: learned weight vector\n",
    "        \"\"\"\n",
    "        w = np.random.rand(len(X[1,:]), 1)\n",
    "        if debug is True:\n",
    "            print(\"Initial weghts = {}\".format(w))\n",
    "\n",
    "        for i in range(iterations):\n",
    "            y_hat = self.__prediction(X, w)\n",
    "            gradient_values = self.__gradient(X, y, y_hat) + reg_const * w\n",
    "            w = np.subtract(w, alpha * gradient_values)\n",
    "            if i % 2000 == 0 and debug is True:\n",
    "                print(\"{}: weights are {}\".format(i, w))\n",
    "\n",
    "        if debug is True:\n",
    "            print(\"final weights: {}\".format(w))\n",
    "\n",
    "        return w \n",
    "    \n",
    "    def rmse(self, y, y_pred):\n",
    "        \"\"\"\n",
    "        Calculates the RMSE error.\n",
    "        Arguments: y: Actual counts\n",
    "                   y_pred: Predicted Count\n",
    "        Returns: RMSE error\n",
    "        \"\"\"\n",
    "        rmse = np.sqrt(np.mean(np.square(y - y_pred)))\n",
    "        return rmse\n",
    "    \n",
    "    def fit(self, X, y, alpha = 0.001, iterations = 50000, reg_const = 0, debug = True):\n",
    "        \"\"\"\n",
    "        Fits a Poisson Regression model to the given data.\n",
    "        Arguments: X: NDArray of data of size n*m, m is the number of features and n is the no. of data points\n",
    "                   y: Actual counts\n",
    "                   alpha: step size\n",
    "                   iteratons: number of iterations\n",
    "                   reg_const: regulatization const for the specified regularization\n",
    "                   debug: If True, weight vector is printed every 2000 iterations\n",
    "        Returns: Learned weight vector\n",
    "        \"\"\"\n",
    "        self.reg_const = reg_const\n",
    "        \n",
    "        if self.regularization == \"\":\n",
    "            w = self.__gradient_descent(X,y, alpha, iterations, debug)\n",
    "        elif self.regularization == \"l1\":\n",
    "            w = self.__gradient_descent_l1(X, y, alpha, iterations, reg_const, debug)\n",
    "        elif self.regularization == \"l2\":\n",
    "            w = self.__gradient_descent_l2(X, y, alpha, iterations, reg_const, debug)\n",
    "        else: \n",
    "            raise Exception(\"Regularization value is wrong\")\n",
    "            \n",
    "        self.w = w\n",
    "        return w\n",
    "            \n",
    "        \n",
    "    def predict(self, X):\n",
    "        \"\"\"\n",
    "        Predicts the count values based on learned weight vector\n",
    "        Arguments: X: NDArray of data of size n*m, m is the number of features and n is the no. of data points\n",
    "        Returns: Predicted counts\n",
    "        \"\"\"\n",
    "        y_pred = self.__prediction(X, self.w)\n",
    "        return y_pred\n",
    "\n"
   ]
  },
  {
   "cell_type": "code",
   "execution_count": 21,
   "metadata": {},
   "outputs": [],
   "source": [
    "def normalize(series):\n",
    "    \"\"\"\n",
    "    Normalizes the values in the given series\n",
    "    Arguments: Pandas series to be normalized\n",
    "    Returns: normalized series\n",
    "    \"\"\"\n",
    "    normalized_series = np.divide(np.subtract(series, series.min()), series.max() - series.min())\n",
    "    return normalized_series\n",
    "\n",
    "def one_hot_encoding(data, column):\n",
    "    \"\"\"\n",
    "    Performs one-hot encoding on the specified column and adds the one-hot encoded columns to the dataframe\n",
    "    Arguments: data: Pandas dataframe\n",
    "               column: name of the column to be encoded\n",
    "    Returns: nothing\n",
    "    \"\"\"\n",
    "    categories = data[column].unique()\n",
    "    for category in categories:\n",
    "        data[column + \"_\"+ str(category)] = (data[column] == category).astype(int)\n",
    "\n",
    "def cyclic_encoding(data, column):\n",
    "    \"\"\"\n",
    "    Performs cyclic encoding on the specified column and add the columns with sine and cosine values\n",
    "    Arguments: data: Pandas dataframe\n",
    "               column: name of the column to be encoded\n",
    "    Returns: nothing\n",
    "    \"\"\"\n",
    "    categories = data[column].unique()\n",
    "    parts = len(categories)\n",
    "    data[\"sine_\" + column] = np.sin(2*np.pi*data[column]/parts)\n",
    "    data[\"cosine_\" + column] = np.cos(2*np.pi*data[column]/parts)\n",
    "\n",
    "\n",
    "def preprocessing_float(data, column_list):\n",
    "    \"\"\"\n",
    "    Normalizes the specified columns\n",
    "    Arguments: data: Pandas dataframe\n",
    "               column_list: list with name of columns to be normalized\n",
    "    Returns: nothing\n",
    "    \"\"\"\n",
    "    for column in column_list:\n",
    "        data[column] = normalize(data[column])\n",
    "\n",
    "\n",
    "def preprocessing_category(data, column_list):\n",
    "    \"\"\"\n",
    "    Performs one-hot encoding specified columns\n",
    "    Arguments: data: Pandas dataframe\n",
    "               column_list: list with name of columns to be one-hot encoded\n",
    "    Returns: nothing\n",
    "    \"\"\"\n",
    "    for column in column_list:\n",
    "        one_hot_encoding(data, column)\n",
    "\n",
    "def preprocessing_cyclic_category(data, column_list):\n",
    "    \"\"\"\n",
    "    Performs cyclic encoding on specified columns\n",
    "    Arguments: data: Pandas dataframe\n",
    "               column_list: list with name of columns to be encoded\n",
    "    Returns: nothing\n",
    "    \"\"\"\n",
    "    for column in column_list:\n",
    "        cyclic_encoding(data, column)\n",
    "\n",
    "def preprocessing_datetime(data, date_time_col):\n",
    "    \"\"\"\n",
    "    Adds a column with day values (Used to split the data in training and test)\n",
    "    Arguments: data: Pandas dataframe\n",
    "               date_time_col: name of column with the dates\n",
    "    Returns: nothing\n",
    "    \"\"\"\n",
    "    data['day'] = pd.to_datetime(data[date_time_col]).dt.day\n"
   ]
  },
  {
   "cell_type": "code",
   "execution_count": 22,
   "metadata": {},
   "outputs": [],
   "source": [
    "def train_validation_split(data,ratio=0.8):\n",
    "    \"\"\"\n",
    "    Splits the training data into training and validation set according to specified ratio. The function splits\n",
    "    each month into the given ratio and concats them to create the training and validation set.\n",
    "    \n",
    "    Arguments: data: Pandas Dataframe containing the data\n",
    "               ratio: The ratio in which data is to be split. Default is .8\n",
    "    Returns: training and validation set\n",
    "    \"\"\"\n",
    "    train_data, val_data = pd.DataFrame(), pd.DataFrame()\n",
    "    years = list(set(train[\"yr\"]))\n",
    "    months = list(set(train[\"mnth\"]))\n",
    "    \n",
    "    for year in years:\n",
    "        for month in months:\n",
    "            index = data[(data[\"mnth\"] == month) & (data[\"yr\"] == year)].index \n",
    "            index_range = max(index) - min(index)\n",
    "            \n",
    "            train_begin_index = int(min(index))\n",
    "            train_end_index = int(train_begin_index + index_range * ratio) + 1\n",
    "            \n",
    "            val_begin_index = train_end_index\n",
    "            val_end_index = int(val_begin_index + index_range * (1 - ratio))\n",
    "            \n",
    "            train_set = data[train_begin_index:train_end_index]\n",
    "            val_set = data[val_begin_index:val_end_index]\n",
    "            \n",
    "            #print(train_begin_index, train_end_index ,val_begin_index, val_end_index)\n",
    "            \n",
    "            train_data = pd.concat([train_data, train_set])\n",
    "            val_data = pd.concat([val_data, val_set])\n",
    "    \n",
    "    return train_data, val_data\n",
    "    \n",
    "    "
   ]
  },
  {
   "cell_type": "code",
   "execution_count": 23,
   "metadata": {},
   "outputs": [],
   "source": [
    "# Read the Bike sharing data\n",
    "train = pd.read_csv(\"hour.csv\")"
   ]
  },
  {
   "cell_type": "code",
   "execution_count": 24,
   "metadata": {},
   "outputs": [],
   "source": [
    "train_dates = [1,2,3,4,5,6,7,8,9,10,11,12,13,14,15,16,17,18,19]\n",
    "test_dates = [20,21,22,23,24,25,26,27,28,29,30,31]"
   ]
  },
  {
   "cell_type": "code",
   "execution_count": 25,
   "metadata": {},
   "outputs": [],
   "source": [
    "# Preprocess the data using the functions defined above\n",
    "preprocessing_datetime(train, \"dteday\")\n",
    "preprocessing_float(train, [\"temp\", \"atemp\", \"hum\", \"windspeed\"])\n",
    "preprocessing_cyclic_category(train, [\"mnth\", \"hr\", \"weekday\", \"season\"])\n",
    "preprocessing_category(train, [\"weathersit\"])\n",
    "#  Split the data in Train and Test sets. Dates 1-19 fro Train and rest for Test\n",
    "train_data = train[train[\"day\"].isin(train_dates)]\n",
    "test_data = train[train[\"day\"].isin(test_dates)]\n",
    "#Split the Training data into training and validation set\n",
    "train_set, validation_set = train_validation_split(train_data, 0.8)"
   ]
  },
  {
   "cell_type": "code",
   "execution_count": 26,
   "metadata": {},
   "outputs": [],
   "source": [
    "# Convert the test, train and validation sets into numpy arrays.  \n",
    "X = train_set[['yr','sine_mnth', 'cosine_mnth', 'sine_hr', 'cosine_hr','sine_weekday', 'cosine_weekday','sine_season', 'cosine_season','weathersit_1', 'weathersit_2', 'weathersit_3', 'weathersit_4','holiday', 'workingday', 'temp', 'atemp', 'hum', 'windspeed']].to_numpy()\n",
    "y = train_set[[\"cnt\"]].to_numpy()\n",
    "X_val = validation_set[['yr','sine_mnth', 'cosine_mnth', 'sine_hr', 'cosine_hr','sine_weekday', 'cosine_weekday','sine_season', 'cosine_season','weathersit_1', 'weathersit_2', 'weathersit_3', 'weathersit_4','holiday', 'workingday', 'temp', 'atemp', 'hum', 'windspeed']].to_numpy()\n",
    "y_val = validation_set[[\"cnt\"]].to_numpy()\n",
    "X_test = test_data[['yr','sine_mnth', 'cosine_mnth', 'sine_hr', 'cosine_hr','sine_weekday', 'cosine_weekday','sine_season', 'cosine_season','weathersit_1', 'weathersit_2', 'weathersit_3', 'weathersit_4','holiday', 'workingday', 'temp', 'atemp', 'hum', 'windspeed']].to_numpy()\n",
    "y_test = test_data[[\"cnt\"]].to_numpy()"
   ]
  },
  {
   "cell_type": "code",
   "execution_count": 27,
   "metadata": {},
   "outputs": [],
   "source": [
    "# Unregularized Poisson Regression\n",
    "poissonRegression = PoissonRegression(regularization=\"\")\n",
    "w = poissonRegression.fit(X,y,reg_const = 0, iterations=500000, debug=False)"
   ]
  },
  {
   "cell_type": "code",
   "execution_count": 28,
   "metadata": {},
   "outputs": [
    {
     "data": {
      "text/plain": [
       "array([[ 5.26911036e-01],\n",
       "       [-1.33198167e-01],\n",
       "       [-2.89335397e-01],\n",
       "       [-6.26140602e-01],\n",
       "       [-6.12634852e-01],\n",
       "       [-5.30141419e-02],\n",
       "       [ 9.03521717e-03],\n",
       "       [ 1.71478965e-02],\n",
       "       [ 1.75607240e-01],\n",
       "       [ 4.34144328e+00],\n",
       "       [ 4.26405408e+00],\n",
       "       [ 3.78995746e+00],\n",
       "       [ 0.00000000e+00],\n",
       "       [-3.01727103e-04],\n",
       "       [ 3.71160131e-02],\n",
       "       [-8.56803369e-01],\n",
       "       [ 1.45683440e+00],\n",
       "       [ 2.63926976e-01],\n",
       "       [-7.95780949e-02]])"
      ]
     },
     "execution_count": 28,
     "metadata": {},
     "output_type": "execute_result"
    }
   ],
   "source": [
    "w"
   ]
  },
  {
   "cell_type": "code",
   "execution_count": 29,
   "metadata": {},
   "outputs": [],
   "source": [
    "#Make predictions on the validation set\n",
    "y_hat = poissonRegression.predict(X_val)"
   ]
  },
  {
   "cell_type": "code",
   "execution_count": 30,
   "metadata": {},
   "outputs": [
    {
     "data": {
      "text/plain": [
       "130.26837793331208"
      ]
     },
     "execution_count": 30,
     "metadata": {},
     "output_type": "execute_result"
    }
   ],
   "source": [
    "#Obtain the rmse error value for non-regularized poisson regression\n",
    "poissonRegression.rmse(y_val, y_hat)"
   ]
  },
  {
   "cell_type": "code",
   "execution_count": 31,
   "metadata": {},
   "outputs": [
    {
     "data": {
      "text/plain": [
       "134.66007697543085"
      ]
     },
     "execution_count": 31,
     "metadata": {},
     "output_type": "execute_result"
    }
   ],
   "source": [
    "#Make the predictions on the test data and calculate the rmse error. \n",
    "y_test_pred = poissonRegression.predict(X_test)\n",
    "poissonRegression.rmse(y_test,y_test_pred)"
   ]
  },
  {
   "cell_type": "code",
   "execution_count": 32,
   "metadata": {},
   "outputs": [],
   "source": [
    "#Poisson Regression with l1\n",
    "reg_consts = [0.2, 0.4, 0.6,1,5,10]\n",
    "val_rmse_l1 = []\n",
    "models_l1 = []\n",
    "for reg_const in reg_consts:\n",
    "    model_l1 = PoissonRegression(\"l1\")\n",
    "    model_l1.fit(X,y, reg_const = reg_const, iterations=300000, debug=False)\n",
    "    y_l1_hat = model_l1.predict(X_val)\n",
    "    rmse = model_l1.rmse(y_val, y_l1_hat)\n",
    "    val_rmse_l1.append(rmse)\n",
    "    models_l1.append(model_l1)\n",
    "    "
   ]
  },
  {
   "cell_type": "code",
   "execution_count": 33,
   "metadata": {},
   "outputs": [
    {
     "data": {
      "text/plain": [
       "[130.18293064699856,\n",
       " 130.10406824142714,\n",
       " 130.03202183686503,\n",
       " 129.90922885600023,\n",
       " 129.547647655062,\n",
       " 129.60613423315277]"
      ]
     },
     "execution_count": 33,
     "metadata": {},
     "output_type": "execute_result"
    }
   ],
   "source": [
    "val_rmse_l1"
   ]
  },
  {
   "cell_type": "code",
   "execution_count": 34,
   "metadata": {},
   "outputs": [
    {
     "data": {
      "text/plain": [
       "133.9289079617613"
      ]
     },
     "execution_count": 34,
     "metadata": {},
     "output_type": "execute_result"
    }
   ],
   "source": [
    "best_model_l1 = models_l1[4]\n",
    "y_l1_test = best_model_l1.predict(X_test)\n",
    "rmse_l1_test = best_model_l1.rmse(y_test, y_l1_test)\n",
    "rmse_l1_test"
   ]
  },
  {
   "cell_type": "code",
   "execution_count": 35,
   "metadata": {},
   "outputs": [
    {
     "data": {
      "text/plain": [
       "array([[ 5.32729335e-01],\n",
       "       [-8.88229082e-02],\n",
       "       [-1.75539034e-01],\n",
       "       [-6.15185219e-01],\n",
       "       [-6.04319089e-01],\n",
       "       [-5.07895489e-02],\n",
       "       [ 1.04463119e-02],\n",
       "       [-5.98055119e-06],\n",
       "       [ 1.29864393e-01],\n",
       "       [ 4.11223033e+00],\n",
       "       [ 4.01997535e+00],\n",
       "       [ 3.50464024e+00],\n",
       "       [ 0.00000000e+00],\n",
       "       [ 2.18498128e-04],\n",
       "       [ 4.09556751e-02],\n",
       "       [ 1.99483471e-04],\n",
       "       [ 8.50341027e-01],\n",
       "       [ 3.91571352e-01],\n",
       "       [ 1.07354036e-04]])"
      ]
     },
     "execution_count": 35,
     "metadata": {},
     "output_type": "execute_result"
    }
   ],
   "source": [
    "best_model_l1.w"
   ]
  },
  {
   "cell_type": "code",
   "execution_count": 36,
   "metadata": {},
   "outputs": [],
   "source": [
    "reg_consts = [0.01,0.1, 0.2, 0.3, 0.4, 0.5,1,5]\n",
    "val_rmse_l2 = []\n",
    "models_l2 = []\n",
    "for reg_const in reg_consts:\n",
    "    model_l2 = PoissonRegression(\"l2\")\n",
    "    model_l2.fit(X,y,reg_const = reg_const, iterations=200000, debug=False)\n",
    "    y_l2_hat = model_l2.predict(X_val)\n",
    "    rmse = model_l2.rmse(y_val, y_l2_hat)\n",
    "    val_rmse_l2.append(rmse)\n",
    "    models_l2.append(model_l2)\n",
    "    "
   ]
  },
  {
   "cell_type": "code",
   "execution_count": 37,
   "metadata": {},
   "outputs": [
    {
     "data": {
      "text/plain": [
       "[130.2200336846883,\n",
       " 130.60698212056272,\n",
       " 131.63688071453885,\n",
       " 132.7600964227523,\n",
       " 133.82484526840264,\n",
       " 134.78973870296494,\n",
       " 138.23402761313176,\n",
       " 145.35210268107838]"
      ]
     },
     "execution_count": 37,
     "metadata": {},
     "output_type": "execute_result"
    }
   ],
   "source": [
    "val_rmse_l2"
   ]
  },
  {
   "cell_type": "code",
   "execution_count": 38,
   "metadata": {},
   "outputs": [
    {
     "data": {
      "text/plain": [
       "134.62066225959842"
      ]
     },
     "execution_count": 38,
     "metadata": {},
     "output_type": "execute_result"
    }
   ],
   "source": [
    "best_model_l2 = models_l2[0]\n",
    "y_l2_test = best_model_l2.predict(X_test)\n",
    "rmse_l2_test = best_model_l2.rmse(y_test, y_l2_test)\n",
    "rmse_l2_test"
   ]
  },
  {
   "cell_type": "code",
   "execution_count": 39,
   "metadata": {},
   "outputs": [
    {
     "data": {
      "text/plain": [
       "array([[ 5.28823084e-01],\n",
       "       [-1.25974607e-01],\n",
       "       [-2.74549715e-01],\n",
       "       [-6.25898758e-01],\n",
       "       [-6.12795589e-01],\n",
       "       [-5.47999519e-02],\n",
       "       [ 1.22001019e-02],\n",
       "       [ 1.68785389e-02],\n",
       "       [ 1.71691763e-01],\n",
       "       [ 4.28971581e+00],\n",
       "       [ 4.20838031e+00],\n",
       "       [ 3.72714145e+00],\n",
       "       [ 1.09753756e-01],\n",
       "       [ 4.04292093e-03],\n",
       "       [ 4.32572282e-02],\n",
       "       [-7.24205087e-01],\n",
       "       [ 1.37082693e+00],\n",
       "       [ 2.96803148e-01],\n",
       "       [-6.81005762e-02]])"
      ]
     },
     "execution_count": 39,
     "metadata": {},
     "output_type": "execute_result"
    }
   ],
   "source": [
    "best_model_l2.w"
   ]
  },
  {
   "cell_type": "code",
   "execution_count": 40,
   "metadata": {},
   "outputs": [],
   "source": [
    "# Create the numpy arrays from the train, test and validation data\n",
    "X_best = train_set[['yr','sine_mnth', 'cosine_mnth', 'sine_hr', 'cosine_hr','sine_weekday', 'cosine_weekday','weathersit_1', 'weathersit_2', 'weathersit_3', 'weathersit_4', 'workingday', 'atemp', 'hum',]].to_numpy()\n",
    "y_best = train_set[[\"cnt\"]].to_numpy()\n",
    "X_val_best = validation_set[['yr','sine_mnth', 'cosine_mnth', 'sine_hr', 'cosine_hr','sine_weekday', 'cosine_weekday','weathersit_1', 'weathersit_2', 'weathersit_3', 'weathersit_4', 'workingday', 'atemp', 'hum']].to_numpy()\n",
    "y_val_best = validation_set[[\"cnt\"]].to_numpy()\n",
    "X_test_best = test_data[['yr','sine_mnth', 'cosine_mnth', 'sine_hr', 'cosine_hr','sine_weekday', 'cosine_weekday','weathersit_1', 'weathersit_2', 'weathersit_3', 'weathersit_4', 'workingday', 'atemp', 'hum']].to_numpy()\n",
    "y_test_best = test_data[[\"cnt\"]].to_numpy()"
   ]
  },
  {
   "cell_type": "code",
   "execution_count": 41,
   "metadata": {},
   "outputs": [
    {
     "data": {
      "text/plain": [
       "128.4107685212324"
      ]
     },
     "execution_count": 41,
     "metadata": {},
     "output_type": "execute_result"
    }
   ],
   "source": [
    "poissonRegression_best = PoissonRegression(regularization=\"\")\n",
    "poissonRegression_best.fit(X_best,y_best,reg_const = 0, iterations=500000, debug=False)\n",
    "y_hat_best = poissonRegression_best.predict(X_val_best)\n",
    "poissonRegression_best.rmse(y_val_best, y_hat_best)"
   ]
  },
  {
   "cell_type": "code",
   "execution_count": 42,
   "metadata": {},
   "outputs": [
    {
     "data": {
      "text/plain": [
       "133.040099435509"
      ]
     },
     "execution_count": 42,
     "metadata": {},
     "output_type": "execute_result"
    }
   ],
   "source": [
    "y_pred_test_best = poissonRegression_best.predict(X_test_best)\n",
    "poissonRegression_best.rmse(y_test_best, y_pred_test_best)"
   ]
  },
  {
   "cell_type": "code",
   "execution_count": null,
   "metadata": {},
   "outputs": [],
   "source": []
  }
 ],
 "metadata": {
  "kernelspec": {
   "display_name": "Python 3",
   "language": "python",
   "name": "python3"
  },
  "language_info": {
   "codemirror_mode": {
    "name": "ipython",
    "version": 3
   },
   "file_extension": ".py",
   "mimetype": "text/x-python",
   "name": "python",
   "nbconvert_exporter": "python",
   "pygments_lexer": "ipython3",
   "version": "3.8.6"
  }
 },
 "nbformat": 4,
 "nbformat_minor": 4
}
